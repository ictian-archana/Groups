{
  "nbformat": 4,
  "nbformat_minor": 0,
  "metadata": {
    "colab": {
      "provenance": [],
      "authorship_tag": "ABX9TyPN58aj3Ug7I5Jni1p5CYfg",
      "include_colab_link": true
    },
    "kernelspec": {
      "name": "python3",
      "display_name": "Python 3"
    },
    "language_info": {
      "name": "python"
    }
  },
  "cells": [
    {
      "cell_type": "markdown",
      "metadata": {
        "id": "view-in-github",
        "colab_type": "text"
      },
      "source": [
        "<a href=\"https://colab.research.google.com/github/ictian-archana/Groups/blob/main/PRNG.ipynb\" target=\"_parent\"><img src=\"https://colab.research.google.com/assets/colab-badge.svg\" alt=\"Open In Colab\"/></a>"
      ]
    },
    {
      "cell_type": "code",
      "execution_count": 1,
      "metadata": {
        "colab": {
          "base_uri": "https://localhost:8080/"
        },
        "id": "zHVZDvKejVus",
        "outputId": "0842a3c0-9546-45c0-af2e-9ba4a5128126"
      },
      "outputs": [
        {
          "output_type": "stream",
          "name": "stdout",
          "text": [
            "1\t2\t3\t5\t2\t"
          ]
        }
      ],
      "source": [
        "# Python3 code to implement the\n",
        "# approach\n",
        "import random\n",
        "from datetime import datetime\n",
        "import time\n",
        "import os\n",
        "\n",
        "# Passing the current time as the seed value\n",
        "random.seed((time.time_ns() + os.getpid()%10))\n",
        "\n",
        "for i in range(5):\n",
        "    print(random.randint(0, 10), end=\"\\t\")"
      ]
    }
  ]
}