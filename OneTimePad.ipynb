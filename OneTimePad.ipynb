{
  "nbformat": 4,
  "nbformat_minor": 0,
  "metadata": {
    "colab": {
      "provenance": [],
      "authorship_tag": "ABX9TyNVEu9BANNEqgtw7tYLORIz",
      "include_colab_link": true
    },
    "kernelspec": {
      "name": "python3",
      "display_name": "Python 3"
    },
    "language_info": {
      "name": "python"
    }
  },
  "cells": [
    {
      "cell_type": "markdown",
      "metadata": {
        "id": "view-in-github",
        "colab_type": "text"
      },
      "source": [
        "<a href=\"https://colab.research.google.com/github/ictian-archana/Groups/blob/main/OneTimePad.ipynb\" target=\"_parent\"><img src=\"https://colab.research.google.com/assets/colab-badge.svg\" alt=\"Open In Colab\"/></a>"
      ]
    },
    {
      "cell_type": "code",
      "execution_count": 1,
      "metadata": {
        "colab": {
          "base_uri": "https://localhost:8080/"
        },
        "id": "tkPe7ojkuxq3",
        "outputId": "dde31f49-f053-468a-8860-bc2a6497f8be"
      },
      "outputs": [
        {
          "output_type": "stream",
          "name": "stdout",
          "text": [
            "Plaintext: HELLO WORLD\n",
            "Key: b'wh J\\xbf_\\xa2\\x97|-\\x89'\n",
            "Ciphertext: b'?-l\\x06\\xf0\\x7f\\xf5\\xd8.a\\xcd'\n",
            "Decrypted: HELLO WORLD\n"
          ]
        }
      ],
      "source": [
        "import os\n",
        "import string\n",
        "\n",
        "def generate_key(length):\n",
        "    \"\"\"Generate a random key for the one-time pad\"\"\"\n",
        "    return os.urandom(length)\n",
        "\n",
        "def encrypt(plaintext, key):\n",
        "    \"\"\"Encrypt the plaintext using the one-time pad key\"\"\"\n",
        "    return bytes([p ^ k for p, k in zip(plaintext, key)])\n",
        "\n",
        "def decrypt(ciphertext, key):\n",
        "    \"\"\"Decrypt the ciphertext using the one-time pad key\"\"\"\n",
        "    return bytes([c ^ k for c, k in zip(ciphertext, key)])\n",
        "\n",
        "# Example usage:\n",
        "message = \"HELLO WORLD\"\n",
        "# Convert message to bytes\n",
        "plaintext = message.encode()\n",
        "\n",
        "# Generate a key\n",
        "key = generate_key(len(plaintext))\n",
        "\n",
        "# Encrypt the message\n",
        "ciphertext = encrypt(plaintext, key)\n",
        "\n",
        "# Decrypt the message\n",
        "decrypted_message = decrypt(ciphertext, key).decode()\n",
        "\n",
        "print(\"Plaintext:\", message)\n",
        "print(\"Key:\", key)\n",
        "print(\"Ciphertext:\", ciphertext)\n",
        "print(\"Decrypted:\", decrypted_message)"
      ]
    }
  ]
}